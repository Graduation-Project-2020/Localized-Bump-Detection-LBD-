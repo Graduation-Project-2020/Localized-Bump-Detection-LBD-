{
 "cells": [
  {
   "cell_type": "code",
   "execution_count": 1,
   "metadata": {},
   "outputs": [],
   "source": [
    "import helper_functions as hf\n",
    "import cv2\n",
    "# import tensorflow.contrib.tensorrt as trt\n",
    "import tensorflow as tf\n",
    "import numpy as np"
   ]
  },
  {
   "cell_type": "code",
   "execution_count": 2,
   "metadata": {},
   "outputs": [],
   "source": [
    "trt_fname = 'ssd_inception_v2_coco_trt.pb'           # the model after optimization using tensorrt"
   ]
  },
  {
   "cell_type": "code",
   "execution_count": 3,
   "metadata": {},
   "outputs": [
    {
     "name": "stdout",
     "output_type": "stream",
     "text": [
      "WARNING:tensorflow:From /home/mohamed/Dev/Gradp/FInal/helper_functions.py:6: FastGFile.__init__ (from tensorflow.python.platform.gfile) is deprecated and will be removed in a future version.\n",
      "Instructions for updating:\n",
      "Use tf.gfile.GFile.\n",
      "WARNING:tensorflow:From /home/mohamed/Dev/Gradp/FInal/helper_functions.py:7: The name tf.GraphDef is deprecated. Please use tf.compat.v1.GraphDef instead.\n",
      "\n"
     ]
    },
    {
     "data": {
      "text/plain": [
       "[1, None, None, 3]"
      ]
     },
     "execution_count": 3,
     "metadata": {},
     "output_type": "execute_result"
    }
   ],
   "source": [
    "trt_graph = hf.get_frozen_graph(trt_fname)\n",
    "\n",
    "input_names = ['image_tensor']\n",
    "\n",
    "tf_config = tf.ConfigProto()\n",
    "tf_config.gpu_options.allow_growth = True\n",
    "tf_sess = tf.Session(config=tf_config)\n",
    "tf.import_graph_def(trt_graph, name='')\n",
    "\n",
    "tf_input = tf_sess.graph.get_tensor_by_name(input_names[0] + ':0')\n",
    "tf_scores = tf_sess.graph.get_tensor_by_name('detection_scores:0')\n",
    "tf_boxes = tf_sess.graph.get_tensor_by_name('detection_boxes:0')\n",
    "tf_classes = tf_sess.graph.get_tensor_by_name('detection_classes:0')\n",
    "tf_num_detections = tf_sess.graph.get_tensor_by_name('num_detections:0')\n",
    "tf_input.shape.as_list()"
   ]
  },
  {
   "cell_type": "code",
   "execution_count": null,
   "metadata": {},
   "outputs": [],
   "source": [
    "def preprocess(image, contrast_factor=0.85, intensity_thresh=200):\n",
    "    gray = cv2.cvtColor(image, cv2.COLOR_BGR2GRAY)\n",
    "    image = cv2.cvtColor(gray, cv2.COLOR_GRAY2BGR) \n",
    "\n",
    "    \"\"\"Changing Contrast\"\"\"\n",
    "    if image.std() > 45.0:\n",
    "        image = np.array(image * contrast_factor, dtype=np.uint8)\n",
    "    \n",
    "    \"\"\"Changing Brightness\"\"\"\n",
    "    _, image = cv2.threshold(image, intensity_thresh, 255, cv2.THRESH_TRUNC)     # truncates the image brightness\n",
    "    \n",
    "    return image"
   ]
  },
  {
   "cell_type": "code",
   "execution_count": 7,
   "metadata": {},
   "outputs": [],
   "source": [
    "\"\"\"Parameters to Change\"\"\"\n",
    "score_threshold = 0.5\n",
    "width, height, fps = 2560, 720, 25\n",
    "\n",
    "cap = cv2.VideoCapture(0)                   # taking image input from a camera\n",
    "cap.set(cv2.CAP_PROP_FRAME_WIDTH, width)    # setting the width and height of the camera\n",
    "cap.set(cv2.CAP_PROP_FRAME_HEIGHT, height)\n",
    "\n",
    "while True :\n",
    "    retval, image = cap.read()\n",
    "    \n",
    "    if not retval:\n",
    "        break\n",
    "    \n",
    "    left_right_image = np.split(image, 2, axis=1)          # dividing the stereo feed across the width\n",
    "    image = left_right_image[1]                            # taking only one side of the feed as input\n",
    "    \n",
    "    # Detect Here...\n",
    "    scores, boxes, classes, num_detections = tf_sess.run([tf_scores, tf_boxes, tf_classes, tf_num_detections],\n",
    "                                                         feed_dict={tf_input: image[None, ...]})\n",
    "    boxes = boxes[0]\n",
    "    scores = scores[0]\n",
    "    classes = classes[0]\n",
    "    num_detections = int(num_detections[0])\n",
    "\n",
    "    \"\"\"Thresholding\"\"\"\n",
    "    if scores[0] > score_threshold:\n",
    "        print('Bump :(')\n",
    "#         hf.visualize_detection(image, num_detections, classes, boxes, scores)\n",
    "    else:\n",
    "        print('No Bump :)')\n",
    "    \n",
    "#     cv2.imshow(\"Detection\", image)\n",
    "    if cv2.waitKey(25) & 0xFF == ord('q'):\n",
    "        break\n",
    "\n",
    "cv2.destroyAllWindows()"
   ]
  },
  {
   "cell_type": "code",
   "execution_count": null,
   "metadata": {},
   "outputs": [],
   "source": [
    "x, y"
   ]
  }
 ],
 "metadata": {
  "kernelspec": {
   "display_name": "Python 3",
   "language": "python",
   "name": "python3"
  },
  "language_info": {
   "codemirror_mode": {
    "name": "ipython",
    "version": 3
   },
   "file_extension": ".py",
   "mimetype": "text/x-python",
   "name": "python",
   "nbconvert_exporter": "python",
   "pygments_lexer": "ipython3",
   "version": "3.7.6"
  }
 },
 "nbformat": 4,
 "nbformat_minor": 4
}
